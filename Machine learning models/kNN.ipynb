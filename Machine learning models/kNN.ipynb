{
 "cells": [
  {
   "cell_type": "markdown",
   "metadata": {},
   "source": [
    "# k-NN classifier"
   ]
  },
  {
   "cell_type": "code",
   "execution_count": null,
   "metadata": {},
   "outputs": [],
   "source": [
    "import pandas as pd\n",
    "import numpy as np\n",
    "import matplotlib.pyplot as plt\n",
    "import seaborn as sns\n",
    "from scipy import stats\n",
    "from sklearn.neighbors import KNeighborsClassifier\n",
    "from sklearn.model_selection import train_test_split\n",
    "from sklearn.metrics import accuracy_score\n",
    "from sklearn.model_selection import cross_val_score\n",
    "from sklearn.model_selection import GridSearchCV\n"
   ]
  },
  {
   "cell_type": "markdown",
   "metadata": {},
   "source": [
    "# Reading the data"
   ]
  },
  {
   "cell_type": "code",
   "execution_count": 59,
   "metadata": {},
   "outputs": [
    {
     "data": {
      "text/html": [
       "<div>\n",
       "<style scoped>\n",
       "    .dataframe tbody tr th:only-of-type {\n",
       "        vertical-align: middle;\n",
       "    }\n",
       "\n",
       "    .dataframe tbody tr th {\n",
       "        vertical-align: top;\n",
       "    }\n",
       "\n",
       "    .dataframe thead th {\n",
       "        text-align: right;\n",
       "    }\n",
       "</style>\n",
       "<table border=\"1\" class=\"dataframe\">\n",
       "  <thead>\n",
       "    <tr style=\"text-align: right;\">\n",
       "      <th></th>\n",
       "      <th>near_fid</th>\n",
       "      <th>near_x</th>\n",
       "      <th>near_y</th>\n",
       "      <th>near_angle</th>\n",
       "      <th>heard</th>\n",
       "      <th>building</th>\n",
       "      <th>xcoor</th>\n",
       "      <th>ycoor</th>\n",
       "      <th>noise</th>\n",
       "      <th>in_vehicle</th>\n",
       "      <th>asleep</th>\n",
       "      <th>no_windows</th>\n",
       "      <th>age</th>\n",
       "    </tr>\n",
       "  </thead>\n",
       "  <tbody>\n",
       "    <tr>\n",
       "      <th>0</th>\n",
       "      <td>2712</td>\n",
       "      <td>1.998301e+06</td>\n",
       "      <td>9.011692e+06</td>\n",
       "      <td>-171.588672</td>\n",
       "      <td>1</td>\n",
       "      <td>0</td>\n",
       "      <td>1999193.0</td>\n",
       "      <td>9011824</td>\n",
       "      <td>0</td>\n",
       "      <td>0</td>\n",
       "      <td>0</td>\n",
       "      <td>0</td>\n",
       "      <td>59</td>\n",
       "    </tr>\n",
       "    <tr>\n",
       "      <th>1</th>\n",
       "      <td>2721</td>\n",
       "      <td>1.928907e+06</td>\n",
       "      <td>8.954624e+06</td>\n",
       "      <td>-51.208102</td>\n",
       "      <td>1</td>\n",
       "      <td>0</td>\n",
       "      <td>1928298.0</td>\n",
       "      <td>8955382</td>\n",
       "      <td>0</td>\n",
       "      <td>0</td>\n",
       "      <td>0</td>\n",
       "      <td>0</td>\n",
       "      <td>29</td>\n",
       "    </tr>\n",
       "    <tr>\n",
       "      <th>2</th>\n",
       "      <td>297</td>\n",
       "      <td>2.026384e+06</td>\n",
       "      <td>8.256164e+06</td>\n",
       "      <td>39.018754</td>\n",
       "      <td>1</td>\n",
       "      <td>0</td>\n",
       "      <td>2025706.0</td>\n",
       "      <td>8255615</td>\n",
       "      <td>0</td>\n",
       "      <td>0</td>\n",
       "      <td>0</td>\n",
       "      <td>0</td>\n",
       "      <td>32</td>\n",
       "    </tr>\n",
       "    <tr>\n",
       "      <th>3</th>\n",
       "      <td>739</td>\n",
       "      <td>1.743184e+06</td>\n",
       "      <td>8.052652e+06</td>\n",
       "      <td>15.046022</td>\n",
       "      <td>1</td>\n",
       "      <td>0</td>\n",
       "      <td>1742935.0</td>\n",
       "      <td>8052585</td>\n",
       "      <td>0</td>\n",
       "      <td>0</td>\n",
       "      <td>0</td>\n",
       "      <td>0</td>\n",
       "      <td>36</td>\n",
       "    </tr>\n",
       "    <tr>\n",
       "      <th>4</th>\n",
       "      <td>1852</td>\n",
       "      <td>1.350375e+06</td>\n",
       "      <td>7.909850e+06</td>\n",
       "      <td>144.603170</td>\n",
       "      <td>1</td>\n",
       "      <td>0</td>\n",
       "      <td>1350807.0</td>\n",
       "      <td>7909543</td>\n",
       "      <td>0</td>\n",
       "      <td>0</td>\n",
       "      <td>0</td>\n",
       "      <td>0</td>\n",
       "      <td>55</td>\n",
       "    </tr>\n",
       "  </tbody>\n",
       "</table>\n",
       "</div>"
      ],
      "text/plain": [
       "   near_fid        near_x        near_y  near_angle  heard  building  \\\n",
       "0      2712  1.998301e+06  9.011692e+06 -171.588672      1         0   \n",
       "1      2721  1.928907e+06  8.954624e+06  -51.208102      1         0   \n",
       "2       297  2.026384e+06  8.256164e+06   39.018754      1         0   \n",
       "3       739  1.743184e+06  8.052652e+06   15.046022      1         0   \n",
       "4      1852  1.350375e+06  7.909850e+06  144.603170      1         0   \n",
       "\n",
       "       xcoor    ycoor  noise  in_vehicle  asleep  no_windows  age  \n",
       "0  1999193.0  9011824      0           0       0           0   59  \n",
       "1  1928298.0  8955382      0           0       0           0   29  \n",
       "2  2025706.0  8255615      0           0       0           0   32  \n",
       "3  1742935.0  8052585      0           0       0           0   36  \n",
       "4  1350807.0  7909543      0           0       0           0   55  "
      ]
     },
     "execution_count": 59,
     "metadata": {},
     "output_type": "execute_result"
    }
   ],
   "source": [
    "data = pd.read_csv('siren_data_train.csv')\n",
    "data.head()"
   ]
  },
  {
   "cell_type": "markdown",
   "metadata": {},
   "source": [
    "# Preprocessing the data\n",
    "Since the data consists of coordinates for the person and the nearest horn, we can replace these with the just the distance to the nearest horn. We can also go ahead and drop the \"near_fid\" column as this column doesn't provide any information towards the target variable \"heard\". The same goes for \"near_angle\" which we can drop since it is uncorrelated, as shown in question 3 of the data analysis task."
   ]
  },
  {
   "cell_type": "code",
   "execution_count": 60,
   "metadata": {},
   "outputs": [
    {
     "data": {
      "text/html": [
       "<div>\n",
       "<style scoped>\n",
       "    .dataframe tbody tr th:only-of-type {\n",
       "        vertical-align: middle;\n",
       "    }\n",
       "\n",
       "    .dataframe tbody tr th {\n",
       "        vertical-align: top;\n",
       "    }\n",
       "\n",
       "    .dataframe thead th {\n",
       "        text-align: right;\n",
       "    }\n",
       "</style>\n",
       "<table border=\"1\" class=\"dataframe\">\n",
       "  <thead>\n",
       "    <tr style=\"text-align: right;\">\n",
       "      <th></th>\n",
       "      <th>heard</th>\n",
       "      <th>noise</th>\n",
       "      <th>in_vehicle</th>\n",
       "      <th>asleep</th>\n",
       "      <th>no_windows</th>\n",
       "      <th>age</th>\n",
       "      <th>distance</th>\n",
       "    </tr>\n",
       "  </thead>\n",
       "  <tbody>\n",
       "    <tr>\n",
       "      <th>0</th>\n",
       "      <td>1</td>\n",
       "      <td>0</td>\n",
       "      <td>0</td>\n",
       "      <td>0</td>\n",
       "      <td>0</td>\n",
       "      <td>59</td>\n",
       "      <td>901.283517</td>\n",
       "    </tr>\n",
       "    <tr>\n",
       "      <th>1</th>\n",
       "      <td>1</td>\n",
       "      <td>0</td>\n",
       "      <td>0</td>\n",
       "      <td>0</td>\n",
       "      <td>0</td>\n",
       "      <td>29</td>\n",
       "      <td>972.006260</td>\n",
       "    </tr>\n",
       "    <tr>\n",
       "      <th>2</th>\n",
       "      <td>1</td>\n",
       "      <td>0</td>\n",
       "      <td>0</td>\n",
       "      <td>0</td>\n",
       "      <td>0</td>\n",
       "      <td>32</td>\n",
       "      <td>872.340924</td>\n",
       "    </tr>\n",
       "    <tr>\n",
       "      <th>3</th>\n",
       "      <td>1</td>\n",
       "      <td>0</td>\n",
       "      <td>0</td>\n",
       "      <td>0</td>\n",
       "      <td>0</td>\n",
       "      <td>36</td>\n",
       "      <td>257.804449</td>\n",
       "    </tr>\n",
       "    <tr>\n",
       "      <th>4</th>\n",
       "      <td>1</td>\n",
       "      <td>0</td>\n",
       "      <td>0</td>\n",
       "      <td>0</td>\n",
       "      <td>0</td>\n",
       "      <td>55</td>\n",
       "      <td>529.686791</td>\n",
       "    </tr>\n",
       "  </tbody>\n",
       "</table>\n",
       "</div>"
      ],
      "text/plain": [
       "   heard  noise  in_vehicle  asleep  no_windows  age    distance\n",
       "0      1      0           0       0           0   59  901.283517\n",
       "1      1      0           0       0           0   29  972.006260\n",
       "2      1      0           0       0           0   32  872.340924\n",
       "3      1      0           0       0           0   36  257.804449\n",
       "4      1      0           0       0           0   55  529.686791"
      ]
     },
     "execution_count": 60,
     "metadata": {},
     "output_type": "execute_result"
    }
   ],
   "source": [
    "distances = {'distance': []}\n",
    "for i in range(0, len(data)):\n",
    "    point_a = np.array((float(data.iloc[i, 1]), float(data.iloc[i, 2])))\n",
    "    point_b = np.array((float(data.iloc[i, 6]), float(data.iloc[i, 7])))\n",
    "    distance = np.linalg.norm(point_a - point_b)\n",
    "    distances['distance'].append(distance)\n",
    "\n",
    "\n",
    "data = data.assign(distance=distances['distance'])\n",
    "\n",
    "data = data.drop(['near_x', 'near_y', 'ycoor', 'xcoor', 'near_fid', 'near_angle','building'], axis=1)\n",
    "\n",
    "data.head()"
   ]
  },
  {
   "cell_type": "markdown",
   "metadata": {},
   "source": [
    "There are some outliers in the distance column, lets remove them. "
   ]
  },
  {
   "cell_type": "code",
   "execution_count": 61,
   "metadata": {},
   "outputs": [
    {
     "name": "stdout",
     "output_type": "stream",
     "text": [
      "original shape:  (5710, 7)\n",
      "new shape:  (5462, 7)\n"
     ]
    }
   ],
   "source": [
    "# Removing outliers\n",
    "z = np.abs(stats.zscore(data['distance']))\n",
    "threshold = 2\n",
    "outlier_indices = np.where(z > threshold)[0]\n",
    "data_no_outliers = data.drop(outlier_indices, axis=0)\n",
    "data_no_outliers.dropna(inplace=True)\n",
    "\n",
    "print(\"original shape: \", data.shape)\n",
    "print(\"new shape: \", data_no_outliers.shape)"
   ]
  },
  {
   "cell_type": "markdown",
   "metadata": {},
   "source": [
    "# Train the model"
   ]
  },
  {
   "cell_type": "code",
   "execution_count": 62,
   "metadata": {},
   "outputs": [
    {
     "name": "stdout",
     "output_type": "stream",
     "text": [
      "(4369, 6) (4369,)\n",
      "Accuracy on training set: 0.9091325246051728\n",
      "Accuracy on validation set: 0.8874656907593779\n",
      "Cross validation score: 0.8844744611899232 Standard deviation: 0.003245861543286284\n"
     ]
    }
   ],
   "source": [
    "X = data_no_outliers.drop(['heard'], axis=1)\n",
    "y = data_no_outliers['heard']\n",
    "\n",
    "\n",
    "X_train, X_val, y_train, y_val = train_test_split(X, y, test_size=0.2, random_state=42)\n",
    "print(X_train.shape, y_train.shape)\n",
    "\n",
    "knn = KNeighborsClassifier(n_neighbors=5)\n",
    "knn.fit(X_train, y_train)\n",
    "\n",
    "y_hat = knn.predict(X_train)\n",
    "\n",
    "print(\"Accuracy on training set:\", accuracy_score(y_train, y_hat))\n",
    "\n",
    "y_pred = knn.predict(X_val)\n",
    "\n",
    "print(\"Accuracy on validation set:\", accuracy_score(y_val, y_pred))\n",
    "\n",
    "score = cross_val_score(knn, X, y, cv=5)\n",
    "print(\"Cross validation score:\", score.mean(), \"Standard deviation:\", score.std())  "
   ]
  },
  {
   "cell_type": "code",
   "execution_count": 57,
   "metadata": {},
   "outputs": [
    {
     "name": "stdout",
     "output_type": "stream",
     "text": [
      "heard         1.000000\n",
      "distance      0.647269\n",
      "in_vehicle    0.415248\n",
      "noise         0.385856\n",
      "age           0.272923\n",
      "no_windows    0.264627\n",
      "asleep        0.154445\n",
      "building      0.038410\n",
      "Name: heard, dtype: float64\n"
     ]
    }
   ],
   "source": [
    "correlation_matrix = data_no_outliers.corr()\n",
    "correlation_with_target = correlation_matrix[\"heard\"].abs().sort_values(ascending=False)\n",
    "print(correlation_with_target)"
   ]
  },
  {
   "cell_type": "markdown",
   "metadata": {},
   "source": [
    "# Tune the model\n",
    "It's time for some hyperparameter tuning, for k-NN there is only one parameter: number of neighbors. We will use GridSearchCV to tune it. "
   ]
  },
  {
   "cell_type": "code",
   "execution_count": null,
   "metadata": {},
   "outputs": [],
   "source": [
    "param_grid = {'n_neighbors': np.arange(1, 70)}\n",
    "knn_cv = GridSearchCV(knn, param_grid, cv=5)\n",
    "\n",
    "knn_cv.fit(X, y)\n",
    "print(\"Tuned hyperparameter k:\", knn_cv.best_params_)\n",
    "\n",
    "print(\"Tuned accuracy:\", knn_cv.best_score_)\n",
    "\n"
   ]
  }
 ],
 "metadata": {
  "kernelspec": {
   "display_name": "base",
   "language": "python",
   "name": "python3"
  },
  "language_info": {
   "codemirror_mode": {
    "name": "ipython",
    "version": 3
   },
   "file_extension": ".py",
   "mimetype": "text/x-python",
   "name": "python",
   "nbconvert_exporter": "python",
   "pygments_lexer": "ipython3",
   "version": "3.11.5"
  }
 },
 "nbformat": 4,
 "nbformat_minor": 2
}
