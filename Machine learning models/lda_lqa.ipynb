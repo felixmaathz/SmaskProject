{
 "cells": [
  {
   "cell_type": "code",
   "execution_count": 7,
   "metadata": {},
   "outputs": [],
   "source": [
    "from sklearn.discriminant_analysis import LinearDiscriminantAnalysis\n",
    "from sklearn.model_selection import train_test_split \n",
    "from sklearn.model_selection import cross_val_score\n",
    "from sklearn.model_selection import GridSearchCV\n",
    "import pandas as pd \n",
    "import numpy as np \n",
    "import warnings \n",
    "warnings.filterwarnings('ignore', category=FutureWarning)"
   ]
  },
  {
   "cell_type": "code",
   "execution_count": 8,
   "metadata": {},
   "outputs": [],
   "source": [
    "datan = pd.read_csv('../Machine learning models/siren_data_train_no_outliers.csv')"
   ]
  },
  {
   "cell_type": "code",
   "execution_count": 10,
   "metadata": {},
   "outputs": [
    {
     "name": "stdout",
     "output_type": "stream",
     "text": [
      "Mean accuracy: 0.9196265613008523\n",
      "Best Parameters for LDA: {'shrinkage': 0.0, 'solver': 'lsqr'}\n",
      "Mean accuracy: 0.9196265613008523\n"
     ]
    },
    {
     "data": {
      "text/html": [
       "<div>\n",
       "<style scoped>\n",
       "    .dataframe tbody tr th:only-of-type {\n",
       "        vertical-align: middle;\n",
       "    }\n",
       "\n",
       "    .dataframe tbody tr th {\n",
       "        vertical-align: top;\n",
       "    }\n",
       "\n",
       "    .dataframe thead th {\n",
       "        text-align: right;\n",
       "    }\n",
       "</style>\n",
       "<table border=\"1\" class=\"dataframe\">\n",
       "  <thead>\n",
       "    <tr style=\"text-align: right;\">\n",
       "      <th>Predicted</th>\n",
       "      <th>0</th>\n",
       "      <th>1</th>\n",
       "      <th>All</th>\n",
       "    </tr>\n",
       "    <tr>\n",
       "      <th>Actual</th>\n",
       "      <th></th>\n",
       "      <th></th>\n",
       "      <th></th>\n",
       "    </tr>\n",
       "  </thead>\n",
       "  <tbody>\n",
       "    <tr>\n",
       "      <th>0</th>\n",
       "      <td>154</td>\n",
       "      <td>82</td>\n",
       "      <td>236</td>\n",
       "    </tr>\n",
       "    <tr>\n",
       "      <th>1</th>\n",
       "      <td>12</td>\n",
       "      <td>845</td>\n",
       "      <td>857</td>\n",
       "    </tr>\n",
       "    <tr>\n",
       "      <th>All</th>\n",
       "      <td>166</td>\n",
       "      <td>927</td>\n",
       "      <td>1093</td>\n",
       "    </tr>\n",
       "  </tbody>\n",
       "</table>\n",
       "</div>"
      ],
      "text/plain": [
       "Predicted    0    1   All\n",
       "Actual                   \n",
       "0          154   82   236\n",
       "1           12  845   857\n",
       "All        166  927  1093"
      ]
     },
     "execution_count": 10,
     "metadata": {},
     "output_type": "execute_result"
    }
   ],
   "source": [
    "# X and y \n",
    "X = datan.drop([\"heard\"], axis=1)\n",
    "y = datan[\"heard\"]\n",
    "\n",
    "# Train and test splits\n",
    "X_train, X_val, y_train, y_val = train_test_split(X, y, test_size=0.2, random_state=42)\n",
    "\n",
    "#  LDA model\n",
    "model = LinearDiscriminantAnalysis()\n",
    "model.fit(X_train, y_train)\n",
    "\n",
    "# Prediction\n",
    "y_pred = model.predict(X_val)\n",
    "\n",
    "# Cross val score\n",
    "scores = cross_val_score(model, X, y, cv=5)\n",
    "\n",
    "# Mean accuracy\n",
    "print(f\"Mean accuracy: {scores.mean()}\")\n",
    "\n",
    "# Confusion matrix\n",
    "pd.crosstab(y_val, y_pred, rownames=['Actual'], colnames=['Predicted'], margins=True)\n",
    "\n",
    "\n",
    "\n",
    "############################################\n",
    "# \n",
    "# Define the parameter grid to search\n",
    "param_grid = {\n",
    "    'solver': [ 'lsqr', 'eigen'],  # Different solvers\n",
    "    'shrinkage': np.arange(0.0, 1.1, 0.1)  # Different shrinkage values\n",
    "}\n",
    "\n",
    "# Grid search \n",
    "grid_search = GridSearchCV(model, param_grid, cv=5)\n",
    "grid_search.fit(X_train, y_train)\n",
    "\n",
    "# Best parameters\n",
    "best_params = grid_search.best_params_\n",
    "print(\"Best Parameters for LDA:\", best_params)\n",
    "\n",
    "# LDA with best parameters\n",
    "best_lda = LinearDiscriminantAnalysis(**best_params)\n",
    "best_lda.fit(X_train, y_train)\n",
    "\n",
    "# Prediction\n",
    "y_pred_lda = best_lda.predict(X_val)\n",
    "\n",
    "# Cross val score\n",
    "scores_lda = cross_val_score(best_lda, X, y, cv=5)\n",
    "\n",
    "# Mean accuracy\n",
    "print(f\"Mean accuracy with best parameters: {scores_lda.mean()}\")\n",
    "\n",
    "# Confusion matrix\n",
    "pd.crosstab(y_val, y_pred_lda, rownames=['Actual'], colnames=['Predicted'], margins=True)"
   ]
  }
 ],
 "metadata": {
  "kernelspec": {
   "display_name": "My Environment",
   "language": "python",
   "name": "myenv"
  },
  "language_info": {
   "codemirror_mode": {
    "name": "ipython",
    "version": 3
   },
   "file_extension": ".py",
   "mimetype": "text/x-python",
   "name": "python",
   "nbconvert_exporter": "python",
   "pygments_lexer": "ipython3",
   "version": "3.11.0"
  }
 },
 "nbformat": 4,
 "nbformat_minor": 2
}
