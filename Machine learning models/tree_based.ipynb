{
 "cells": [
  {
   "cell_type": "markdown",
   "metadata": {},
   "source": [
    "# Classification/Decision trees"
   ]
  },
  {
   "cell_type": "code",
   "execution_count": 6,
   "metadata": {},
   "outputs": [],
   "source": [
    "from sklearn.tree import DecisionTreeClassifier\n",
    "from sklearn.model_selection import train_test_split\n",
    "from sklearn.metrics import accuracy_score\n",
    "from sklearn.ensemble import RandomForestClassifier\n",
    "from sklearn.model_selection import cross_val_score\n",
    "\n",
    "import pandas as pd\n",
    "import joblib\n",
    "import numpy as np\n",
    "from sklearn.tree import plot_tree\n",
    "import matplotlib.pyplot as plt\n",
    "from scipy import stats\n",
    "\n",
    "import warnings\n",
    "warnings.filterwarnings('ignore', category=FutureWarning)\n"
   ]
  },
  {
   "cell_type": "markdown",
   "metadata": {},
   "source": [
    "Preprocessing the data"
   ]
  },
  {
   "cell_type": "code",
   "execution_count": 7,
   "metadata": {},
   "outputs": [
    {
     "name": "stdout",
     "output_type": "stream",
     "text": [
      "original shape:  (5710, 2)\n",
      "new shape:  (5462, 2)\n"
     ]
    }
   ],
   "source": [
    "data = pd.read_csv('../Data Analysis/siren_data_train.csv')\n",
    "\n",
    "#Preprocessing data\n",
    "data.dropna(inplace=True)\n",
    "\n",
    "df = pd.DataFrame()\n",
    "distances = []\n",
    "heard = []\n",
    "for i in range(len(data)):\n",
    "    point_a = np.array((float(data.iloc[i, 1]), float(data.iloc[i, 2])))\n",
    "    point_b = np.array((float(data.iloc[i, 6]), float(data.iloc[i, 7])))\n",
    "    distance = np.linalg.norm(point_a - point_b)\n",
    "    distances.append(distance)\n",
    "    heard.append(int(data.iloc[i, 4]))\n",
    "\n",
    "df['distance'] = distances\n",
    "df['heard'] = heard\n",
    "\n",
    "#Removing outliers\n",
    "z = np.abs(stats.zscore(df))\n",
    "threshold = 2\n",
    "outlier_indices = np.where(z > threshold)[0]\n",
    "df_no_outliers = df.drop(outlier_indices, axis=0)\n",
    "df_no_outliers.dropna(inplace=True)\n",
    "\n",
    "print(\"original shape: \", df.shape)\n",
    "print(\"new shape: \", df_no_outliers.shape)\n",
    "\n",
    "data = data.assign(distance=df['distance'].values)\n",
    "\n",
    "data.drop([\"near_angle\", \"near_x\", \"near_y\", \"xcoor\", \"ycoor\", \"near_fid\"], axis=1, inplace=True)"
   ]
  },
  {
   "cell_type": "markdown",
   "metadata": {},
   "source": [
    "Training the model with the test data and evaluating the model with validation data"
   ]
  },
  {
   "cell_type": "code",
   "execution_count": 13,
   "metadata": {},
   "outputs": [
    {
     "name": "stdout",
     "output_type": "stream",
     "text": [
      "Mean accuracy: 0.9161120840630472\n"
     ]
    },
    {
     "data": {
      "text/html": [
       "<div>\n",
       "<style scoped>\n",
       "    .dataframe tbody tr th:only-of-type {\n",
       "        vertical-align: middle;\n",
       "    }\n",
       "\n",
       "    .dataframe tbody tr th {\n",
       "        vertical-align: top;\n",
       "    }\n",
       "\n",
       "    .dataframe thead th {\n",
       "        text-align: right;\n",
       "    }\n",
       "</style>\n",
       "<table border=\"1\" class=\"dataframe\">\n",
       "  <thead>\n",
       "    <tr style=\"text-align: right;\">\n",
       "      <th>Predicted</th>\n",
       "      <th>0</th>\n",
       "      <th>1</th>\n",
       "      <th>All</th>\n",
       "    </tr>\n",
       "    <tr>\n",
       "      <th>Actual</th>\n",
       "      <th></th>\n",
       "      <th></th>\n",
       "      <th></th>\n",
       "    </tr>\n",
       "  </thead>\n",
       "  <tbody>\n",
       "    <tr>\n",
       "      <th>0</th>\n",
       "      <td>227</td>\n",
       "      <td>63</td>\n",
       "      <td>290</td>\n",
       "    </tr>\n",
       "    <tr>\n",
       "      <th>1</th>\n",
       "      <td>36</td>\n",
       "      <td>816</td>\n",
       "      <td>852</td>\n",
       "    </tr>\n",
       "    <tr>\n",
       "      <th>All</th>\n",
       "      <td>263</td>\n",
       "      <td>879</td>\n",
       "      <td>1142</td>\n",
       "    </tr>\n",
       "  </tbody>\n",
       "</table>\n",
       "</div>"
      ],
      "text/plain": [
       "Predicted    0    1   All\n",
       "Actual                   \n",
       "0          227   63   290\n",
       "1           36  816   852\n",
       "All        263  879  1142"
      ]
     },
     "execution_count": 13,
     "metadata": {},
     "output_type": "execute_result"
    }
   ],
   "source": [
    "#Define input and output\n",
    "X = data.drop([\"heard\"], axis=1)\n",
    "y = data[\"heard\"]\n",
    "\n",
    "#Create a RandomForestClassifier\n",
    "model = RandomForestClassifier()\n",
    "\n",
    "#Randomly splitting the dataset into training and testing sets\n",
    "X_train, X_val, y_train, y_val = train_test_split(X, y, test_size=0.2, random_state=42)\n",
    "\n",
    "# Train the classifier on the training data\n",
    "model.fit(X_train, y_train)\n",
    "\n",
    "#Make predictions on the test data\n",
    "y_pred = model.predict(X_val)\n",
    "\n",
    "#Perform 5-fold cross-validation\n",
    "scores = cross_val_score(model, X, y, cv=5)\n",
    "\n",
    "#Print the mean accuracy\n",
    "print(f\"Mean accuracy: {scores.mean()}\")\n",
    "\n",
    "#Print the confusion matrix\n",
    "pd.crosstab(y_val, y_pred, rownames=['Actual'], colnames=['Predicted'], margins=True)"
   ]
  }
 ],
 "metadata": {
  "kernelspec": {
   "display_name": "iis",
   "language": "python",
   "name": "python3"
  },
  "language_info": {
   "codemirror_mode": {
    "name": "ipython",
    "version": 3
   },
   "file_extension": ".py",
   "mimetype": "text/x-python",
   "name": "python",
   "nbconvert_exporter": "python",
   "pygments_lexer": "ipython3",
   "version": "3.11.5"
  }
 },
 "nbformat": 4,
 "nbformat_minor": 2
}
