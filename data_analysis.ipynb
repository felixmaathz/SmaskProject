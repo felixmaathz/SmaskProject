{
 "cells": [
  {
   "cell_type": "code",
   "execution_count": null,
   "metadata": {},
   "outputs": [],
   "source": [
    "import pandas as pd\n",
    "import numpy as np\n",
    "import matplotlib.pyplot as plt\n",
    "import seaborn as sns"
   ]
  },
  {
   "cell_type": "code",
   "execution_count": null,
   "metadata": {},
   "outputs": [],
   "source": [
    "data = pd.read_csv('siren_data_train.csv', header=None)"
   ]
  },
  {
   "cell_type": "code",
   "execution_count": null,
   "metadata": {},
   "outputs": [],
   "source": [
    "df = pd.DataFrame()\n",
    "distances = []\n",
    "heard = []\n",
    "for i in range(1, len(data)):\n",
    "    point_a = np.array((float(data.iloc[i, 1]), float(data.iloc[i, 2])))\n",
    "    point_b = np.array((float(data.iloc[i, 6]), float(data.iloc[i, 7])))\n",
    "    distance = np.linalg.norm(point_a - point_b)\n",
    "    distances.append(distance)\n",
    "    heard.append(int(data.iloc[i, 4]))\n",
    "\n",
    "df['distance'] = distances\n",
    "df['heard'] = heard\n",
    "\n",
    "df2 = len(df[df['heard'] == 1])\n",
    "df3 = len(df[df['heard'] == 0])\n",
    "\n",
    "print(df2,df3)\n"
   ]
  },
  {
   "cell_type": "code",
   "execution_count": null,
   "metadata": {},
   "outputs": [],
   "source": [
    "\n",
    "\n",
    "correlation = df['distance'].corr(df['heard'])\n",
    "print(f\"Correlation coefficient: {correlation}\")"
   ]
  },
  {
   "cell_type": "code",
   "execution_count": null,
   "metadata": {},
   "outputs": [],
   "source": [
    "# Plot without outliers\n",
    "\n",
    "sns.stripplot(    \n",
    "    x='heard',\n",
    "    y='distance',\n",
    "    data=df, \n",
    "    jitter=0.3, \n",
    "    size=2,\n",
    "    order=[1, 0],\n",
    "    dodge=False,\n",
    "    palette=['#1f77b4', '#ff7f0e'],\n",
    "    hue='heard',)"
   ]
  },
  {
   "cell_type": "code",
   "execution_count": null,
   "metadata": {},
   "outputs": [],
   "source": [
    "# Plot zoomed in \n",
    "\n",
    "df_zoom = df[df['distance'] <= 5000]\n",
    "sns.stripplot(\n",
    "    x='heard',\n",
    "    y='distance',\n",
    "    data=df_zoom, \n",
    "    jitter=0.3, \n",
    "    size=1.8,\n",
    "    order=[1, 0],\n",
    "    dodge=False,\n",
    "    palette=['#1f77b4', '#ff7f0e'],\n",
    "    hue='heard',\n",
    "    )\n",
    "correlation = df['distance'].corr(df['heard'], method='spearman')\n",
    "print(f\"Correlation coefficient: {correlation}\")"
   ]
  },
  {
   "cell_type": "code",
   "execution_count": null,
   "metadata": {},
   "outputs": [],
   "source": [
    "import statsmodel.api as sm"
   ]
  }
 ],
 "metadata": {
  "kernelspec": {
   "display_name": "IIS",
   "language": "python",
   "name": "python3"
  },
  "language_info": {
   "codemirror_mode": {
    "name": "ipython",
    "version": 3
   },
   "file_extension": ".py",
   "mimetype": "text/x-python",
   "name": "python",
   "nbconvert_exporter": "python",
   "pygments_lexer": "ipython3",
   "version": "3.11.6"
  }
 },
 "nbformat": 4,
 "nbformat_minor": 2
}
