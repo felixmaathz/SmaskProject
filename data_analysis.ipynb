{
 "cells": [
  {
   "cell_type": "code",
   "execution_count": 15,
   "metadata": {},
   "outputs": [
    {
     "ename": "ModuleNotFoundError",
     "evalue": "No module named 'matplotlib'",
     "output_type": "error",
     "traceback": [
      "\u001b[1;31m---------------------------------------------------------------------------\u001b[0m",
      "\u001b[1;31mModuleNotFoundError\u001b[0m                       Traceback (most recent call last)",
      "Cell \u001b[1;32mIn[15], line 2\u001b[0m\n\u001b[0;32m      1\u001b[0m \u001b[38;5;28;01mimport\u001b[39;00m \u001b[38;5;21;01mpandas\u001b[39;00m \u001b[38;5;28;01mas\u001b[39;00m \u001b[38;5;21;01mpd\u001b[39;00m\n\u001b[1;32m----> 2\u001b[0m \u001b[38;5;28;01mimport\u001b[39;00m \u001b[38;5;21;01mmatplotlib\u001b[39;00m\u001b[38;5;21;01m.\u001b[39;00m\u001b[38;5;21;01mpyplot\u001b[39;00m \u001b[38;5;28;01mas\u001b[39;00m \u001b[38;5;21;01mplt\u001b[39;00m\n\u001b[0;32m      5\u001b[0m data \u001b[38;5;241m=\u001b[39m pd\u001b[38;5;241m.\u001b[39mread_csv(\u001b[38;5;124m'\u001b[39m\u001b[38;5;124msiren_data_train.csv\u001b[39m\u001b[38;5;124m'\u001b[39m)\n\u001b[0;32m      6\u001b[0m data \u001b[38;5;241m=\u001b[39m data\u001b[38;5;241m.\u001b[39mdropna()\n",
      "\u001b[1;31mModuleNotFoundError\u001b[0m: No module named 'matplotlib'"
     ]
    }
   ],
   "source": [
    "import pandas as pd\n",
    "import matplotlib.pyplot as plt\n",
    "\n",
    "\n",
    "data = pd.read_csv('siren_data_train.csv')\n",
    "data = data.dropna()\n",
    "\n",
    "#print(data.head())\n",
    "\n",
    "#2 - Age and heard\n",
    "extracted_data = data[['heard', 'age']]\n",
    "\n",
    "#print(extracted_data.head())\n",
    "\n",
    "#For every age see how many who heard\n",
    "hear_by_age = data[data['heard'] == 1].groupby('age').size()\n",
    "\n",
    "print(\"Amount that heard the siren by age\", hear_by_age)\n",
    "\n",
    "#For every age see hom many how did not hear\n",
    "not_hear_by_age = data[data['heard'] == 0].groupby('age').size()\n",
    "\n",
    "print(\"Amount that did not hear the siren by age \",not_hear_by_age)\n",
    "\n",
    "\n",
    "\n",
    "plt.plot(hear_by_age.index, hear_by_age.values, label='Heard')\n",
    "plt.plot(not_hear_by_age.index, not_hear_by_age.values, label='Did not hear')\n",
    "plt.xlabel('Age')\n",
    "plt.ylabel('Amount')\n",
    "plt.title('Amount that heard/did not hear the siren by age')\n",
    "plt.legend()\n",
    "plt.show()"
   ]
  }
 ],
 "metadata": {
  "kernelspec": {
   "display_name": "iis",
   "language": "python",
   "name": "python3"
  },
  "language_info": {
   "codemirror_mode": {
    "name": "ipython",
    "version": 3
   },
   "file_extension": ".py",
   "mimetype": "text/x-python",
   "name": "python",
   "nbconvert_exporter": "python",
   "pygments_lexer": "ipython3",
   "version": "3.11.5"
  }
 },
 "nbformat": 4,
 "nbformat_minor": 2
}
